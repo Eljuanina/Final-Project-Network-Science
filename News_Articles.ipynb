{
 "cells": [
  {
   "cell_type": "markdown",
   "metadata": {},
   "source": [
    "https://www.costanachrichten.com/spanien/politik-wirtschaft/valencia-jahrhundertflut-katastrophengebiet-spanien-schaeden-tote-flut-hilfe-unwetter-93387693.html\n",
    "\n",
    "https://www.bbc.com/news/articles/c62lkne32v9o\n",
    "\n",
    "29. Oktober\n",
    "Der Speckgürtel um Valencia und die Hauptstradt bleiben von der Außenwelt nahezu abgeschnitten oder schwer erreichbar, auch über die Autobahnen A3 ( E 901 ) und A7 (E-15). Wegen Unwetterschäden sind an über 60 Straßen in Spanien, die meisten in Valencia, derzeit nicht befahrbar. Die Schnellzugverbindungen in Städte wie Madrid und Barcelona werden laut Verkehrsminister Óscar Puente wohl bis zu zwei Wochen nicht nutzbar sein, der Nahverkehr auf der Schiene auf einigen Linien rund um Valencia wohl Monate, da bis 80 Kilometer Schienen beschädigt und teilweise von Wucht des Wassers regelrecht weggerissen wurden.\n",
    "\n",
    "\n",
    "No evacuation plan?\n",
    "https://news.stv.tv/west-central/we-had-no-evacuation-plan-scots-teacher-in-valencia-amid-devastating-flash-floods\n",
    "\n",
    "\n",
    "\n"
   ]
  }
 ],
 "metadata": {
  "language_info": {
   "name": "python"
  }
 },
 "nbformat": 4,
 "nbformat_minor": 2
}
