{
 "cells": [
  {
   "cell_type": "markdown",
   "metadata": {},
   "source": [
    "**Valencia 2024**\n",
    "\n",
    "https://www.costanachrichten.com/spanien/politik-wirtschaft/valencia-jahrhundertflut-katastrophengebiet-spanien-schaeden-tote-flut-hilfe-unwetter-93387693.html\n",
    "\n",
    "https://www.bbc.com/news/articles/c62lkne32v9o\n",
    "\n",
    "29. Oktober\n",
    "Der Speckgürtel um Valencia und die Hauptstradt bleiben von der Außenwelt nahezu abgeschnitten oder schwer erreichbar, auch über die Autobahnen A3 ( E 901 ) und A7 (E-15). Wegen Unwetterschäden sind an über 60 Straßen in Spanien, die meisten in Valencia, derzeit nicht befahrbar. Die Schnellzugverbindungen in Städte wie Madrid und Barcelona werden laut Verkehrsminister Óscar Puente wohl bis zu zwei Wochen nicht nutzbar sein, der Nahverkehr auf der Schiene auf einigen Linien rund um Valencia wohl Monate, da bis 80 Kilometer Schienen beschädigt und teilweise von Wucht des Wassers regelrecht weggerissen wurden.\n",
    "\n",
    "\n",
    "No evacuation plan?\n",
    "https://news.stv.tv/west-central/we-had-no-evacuation-plan-scots-teacher-in-valencia-amid-devastating-flash-floods\n",
    "\n",
    "\n",
    "\n"
   ]
  },
  {
   "cell_type": "markdown",
   "metadata": {},
   "source": [
    "**Hurricane Gustav (2008)**\n",
    "\n",
    "Mandatory evacuation of 1.9 million people in advance of the hurricane: \n",
    " \n",
    "https://www.hurricanescience.org/history/storms/2000s/gustav/\n",
    "\n",
    "https://www.france24.com/en/20080901-gustav-makes-landfall-louisiana-usa-hurricane-0\n"
   ]
  },
  {
   "cell_type": "markdown",
   "metadata": {},
   "source": [
    "**Hurricane Milton 2024** \n",
    "\n",
    "Pro region andere anweisungen \n",
    "\n",
    "=> sieht man das auf der map? \n",
    "\n",
    "https://floridadisaster.maps.arcgis.com/apps/dashboards/e7aa8cb7583241d5a74488576cee4328\n",
    "\n",
    "https://www.nytimes.com/2024/10/07/weather/florida-evacuations-list-hurricane-milton.html\n"
   ]
  }
 ],
 "metadata": {
  "language_info": {
   "name": "python"
  }
 },
 "nbformat": 4,
 "nbformat_minor": 2
}
